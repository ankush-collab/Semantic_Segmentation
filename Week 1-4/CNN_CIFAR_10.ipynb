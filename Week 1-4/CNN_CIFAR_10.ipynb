{
  "nbformat": 4,
  "nbformat_minor": 0,
  "metadata": {
    "colab": {
      "provenance": []
    },
    "kernelspec": {
      "name": "python3",
      "display_name": "Python 3"
    },
    "language_info": {
      "name": "python"
    }
  },
  "cells": [
    {
      "cell_type": "code",
      "execution_count": 1,
      "metadata": {
        "id": "rPj5E1CH_wyL"
      },
      "outputs": [],
      "source": [
        "import torch\n",
        "import torch.nn as nn\n",
        "import torch.nn.functional as F\n",
        "import torchvision\n",
        "import torchvision.transforms as transforms\n",
        "import matplotlib.pyplot as plt\n",
        "import numpy as np"
      ]
    },
    {
      "cell_type": "code",
      "source": [
        "# GPU Support available\n",
        "device = torch.device('cuda' if torch.cuda.is_available() else 'cpu')"
      ],
      "metadata": {
        "id": "B3nvy_y2AbUo"
      },
      "execution_count": 2,
      "outputs": []
    },
    {
      "cell_type": "code",
      "source": [
        "num_epochs =4\n",
        "batch_size =4\n",
        "learning_rate = 0.001"
      ],
      "metadata": {
        "id": "kcsMET9QAkC1"
      },
      "execution_count": 4,
      "outputs": []
    },
    {
      "cell_type": "code",
      "source": [
        "# loading dataset - cifar-10\n",
        "transform = transforms.Compose(\n",
        "    [transforms.ToTensor(),\n",
        "     transforms.Normalize((0.5, 0.5, 0.5), (0.5, 0.5, 0.5))])\n",
        "\n",
        "train_dataset = torchvision.datasets.CIFAR10(root='./data', train=True,\n",
        "                                        download=True, transform=transform)\n",
        "\n",
        "test_dataset = torchvision.datasets.CIFAR10(root='./data', train=False,\n",
        "                                       download=True, transform=transform)\n",
        "\n",
        "train_loader = torch.utils.data.DataLoader(train_dataset, batch_size=batch_size,\n",
        "                                          shuffle=True)\n",
        "\n",
        "test_loader = torch.utils.data.DataLoader(test_dataset, batch_size=batch_size,\n",
        "                                         shuffle=False)\n",
        "\n",
        ""
      ],
      "metadata": {
        "colab": {
          "base_uri": "https://localhost:8080/"
        },
        "id": "Fqhy9-R0Aty9",
        "outputId": "fe5d53dd-a5dd-4ca0-cad7-a7c41a058166"
      },
      "execution_count": 5,
      "outputs": [
        {
          "output_type": "stream",
          "name": "stderr",
          "text": [
            "100%|██████████| 170M/170M [00:03<00:00, 56.1MB/s]\n"
          ]
        }
      ]
    },
    {
      "cell_type": "code",
      "source": [
        "classes = ('plane','car','bird','cat','deer','dog','frog','horse','ship','truck')"
      ],
      "metadata": {
        "id": "NbL643qZBKeP"
      },
      "execution_count": 6,
      "outputs": []
    },
    {
      "cell_type": "code",
      "source": [
        "# architecture\n",
        "class convnet(nn.Module):\n",
        "      def __init__(self):\n",
        "        super(convnet,self).__init__()\n",
        "        self.conv1 = nn.Conv2d(3,6,5)\n",
        "        self.pool = nn.MaxPool2d(2,2)\n",
        "        self.conv2 = nn.Conv2d(6,16,5)\n",
        "        self.fc1 = nn.Linear(16*5*5,120)\n",
        "        self.fc2 = nn.Linear(120,84)\n",
        "        self.fc3 = nn.Linear(84,10)\n",
        "\n",
        "      def forward(self,x):\n",
        "        x= self.conv1(x)\n",
        "        x = F.relu(x)\n",
        "        x = self.pool(x)\n",
        "        x = self.conv2(x)\n",
        "        x = F.relu(x)\n",
        "        x = self.pool(x)\n",
        "        x = x.view(-1,16*5*5)\n",
        "        x = F.relu(self.fc1(x))\n",
        "        x = F.relu(self.fc2(x))\n",
        "        x = self.fc3(x)\n",
        "        return x"
      ],
      "metadata": {
        "id": "qcU0zvGdBSXF"
      },
      "execution_count": 12,
      "outputs": []
    },
    {
      "cell_type": "code",
      "source": [
        "model = convnet().to(device)\n"
      ],
      "metadata": {
        "id": "g5m44pZrBrV_"
      },
      "execution_count": 13,
      "outputs": []
    },
    {
      "cell_type": "code",
      "source": [
        "criterion = nn.CrossEntropyLoss()\n",
        "optimizer = torch.optim.SGD(model.parameters(), lr=learning_rate)\n"
      ],
      "metadata": {
        "id": "ZpaFPo1gBzLY"
      },
      "execution_count": 14,
      "outputs": []
    },
    {
      "cell_type": "code",
      "source": [
        "n_total_steps = len(train_loader)\n",
        "for epoch in range(num_epochs):\n",
        "    for i, (images, labels) in enumerate(train_loader):\n",
        "         # origin shape - [4,3,32,32] = 4,3,1024\n",
        "         # input layer - 3 input channels, 6 output channels, 5 kernel size\n",
        "\n",
        "         images = images.to(device)\n",
        "         labels = labels.to(device)\n",
        "\n",
        "         # Forward pass\n",
        "         outputs = model(images)\n",
        "         loss = criterion(outputs, labels)\n",
        "\n",
        "         # Backward and optimize\n",
        "         optimizer.zero_grad()\n",
        "         loss.backward()\n",
        "         optimizer.step()\n",
        "\n",
        "         if (i+1) % 2000 == 0:\n",
        "             print (f'Epoch [{epoch+1}/{num_epochs}], Step [{i+1}/{n_total_steps}], Loss: {loss.item():.4f}')\n",
        "\n",
        "print('Finished Training')"
      ],
      "metadata": {
        "colab": {
          "base_uri": "https://localhost:8080/"
        },
        "id": "gcE7CvX6C5rK",
        "outputId": "1da46c1a-b2dc-41d0-b121-4b4fc5738532"
      },
      "execution_count": 15,
      "outputs": [
        {
          "output_type": "stream",
          "name": "stdout",
          "text": [
            "Epoch [1/4], Step [2000/12500], Loss: 2.2883\n",
            "Epoch [1/4], Step [4000/12500], Loss: 2.3196\n",
            "Epoch [1/4], Step [6000/12500], Loss: 2.3141\n",
            "Epoch [1/4], Step [8000/12500], Loss: 2.2671\n",
            "Epoch [1/4], Step [10000/12500], Loss: 2.4186\n",
            "Epoch [1/4], Step [12000/12500], Loss: 1.9788\n",
            "Epoch [2/4], Step [2000/12500], Loss: 1.7169\n",
            "Epoch [2/4], Step [4000/12500], Loss: 2.2632\n",
            "Epoch [2/4], Step [6000/12500], Loss: 2.1747\n",
            "Epoch [2/4], Step [8000/12500], Loss: 1.6876\n",
            "Epoch [2/4], Step [10000/12500], Loss: 1.0620\n",
            "Epoch [2/4], Step [12000/12500], Loss: 0.9174\n",
            "Epoch [3/4], Step [2000/12500], Loss: 3.0118\n",
            "Epoch [3/4], Step [4000/12500], Loss: 1.7608\n",
            "Epoch [3/4], Step [6000/12500], Loss: 3.7613\n",
            "Epoch [3/4], Step [8000/12500], Loss: 1.6375\n",
            "Epoch [3/4], Step [10000/12500], Loss: 1.0521\n",
            "Epoch [3/4], Step [12000/12500], Loss: 1.3018\n",
            "Epoch [4/4], Step [2000/12500], Loss: 1.5809\n",
            "Epoch [4/4], Step [4000/12500], Loss: 1.6390\n",
            "Epoch [4/4], Step [6000/12500], Loss: 1.6400\n",
            "Epoch [4/4], Step [8000/12500], Loss: 1.7551\n",
            "Epoch [4/4], Step [10000/12500], Loss: 2.6900\n",
            "Epoch [4/4], Step [12000/12500], Loss: 1.3009\n",
            "Finished Training\n"
          ]
        }
      ]
    },
    {
      "cell_type": "code",
      "source": [
        "with torch.no_grad():\n",
        "    n_correct = 0\n",
        "    n_samples = 0\n",
        "    n_class_correct = [0 for i in range(10)]\n",
        "    n_class_samples = [0 for i in range(10)]\n",
        "    for images, labels in test_loader:\n",
        "        images = images.to(device)\n",
        "        labels = labels.to(device)\n",
        "        outputs = model(images)\n",
        "        # max returns (value ,index)\n",
        "        _, predicted = torch.max(outputs, 1)\n",
        "        n_samples += labels.size(0)\n",
        "        n_correct += (predicted == labels).sum().item()\n",
        "\n",
        "        for i in range(batch_size):\n",
        "            label = labels[i]\n",
        "            pred = predicted[i]\n",
        "            if (label == pred):\n",
        "                n_class_correct[label] += 1\n",
        "            n_class_samples[label] += 1\n",
        "\n",
        "    acc = 100.0 * n_correct / n_samples\n",
        "    print(\"Accuracy -> \", acc)\n",
        "\n",
        "    for i in range(10):\n",
        "        acc = 100.0 * n_class_correct[i] / n_class_samples[i]\n",
        "        print(f'Accuracy of {classes[i]}: {acc} %')"
      ],
      "metadata": {
        "colab": {
          "base_uri": "https://localhost:8080/"
        },
        "id": "WfKap5toDAWc",
        "outputId": "5f799cf1-9397-4977-8530-ea1c89440468"
      },
      "execution_count": 18,
      "outputs": [
        {
          "output_type": "stream",
          "name": "stdout",
          "text": [
            "Accuracy ->  46.9\n",
            "Accuracy of plane: 49.9 %\n",
            "Accuracy of car: 60.3 %\n",
            "Accuracy of bird: 20.7 %\n",
            "Accuracy of cat: 30.0 %\n",
            "Accuracy of deer: 36.7 %\n",
            "Accuracy of dog: 44.6 %\n",
            "Accuracy of frog: 68.3 %\n",
            "Accuracy of horse: 54.7 %\n",
            "Accuracy of ship: 53.8 %\n",
            "Accuracy of truck: 50.0 %\n"
          ]
        }
      ]
    },
    {
      "cell_type": "code",
      "source": [],
      "metadata": {
        "id": "DLyRXc0JJX03"
      },
      "execution_count": null,
      "outputs": []
    }
  ]
}